{
 "cells": [
  {
   "cell_type": "markdown",
   "metadata": {},
   "source": [
    "# 1. Import Dependencies"
   ]
  },
  {
   "cell_type": "code",
   "execution_count": 1,
   "metadata": {},
   "outputs": [
    {
     "name": "stdout",
     "output_type": "stream",
     "text": [
      "Requirement already satisfied: opencv-python in c:\\users\\guilh\\documents\\tfodcourse\\.conda\\lib\\site-packages (4.9.0.80)\n",
      "Requirement already satisfied: numpy>=1.21.2 in c:\\users\\guilh\\documents\\tfodcourse\\.conda\\lib\\site-packages (from opencv-python) (1.24.3)\n"
     ]
    }
   ],
   "source": [
    "!pip install opencv-python"
   ]
  },
  {
   "cell_type": "code",
   "execution_count": 3,
   "metadata": {},
   "outputs": [],
   "source": [
    "# Import opencv\n",
    "import cv2 \n",
    "\n",
    "# Import uuid\n",
    "import uuid\n",
    "\n",
    "# Import Operating System\n",
    "import os\n",
    "\n",
    "# Import time\n",
    "import time"
   ]
  },
  {
   "cell_type": "markdown",
   "metadata": {},
   "source": [
    "# 2. Define Images to Collect"
   ]
  },
  {
   "cell_type": "code",
   "execution_count": 7,
   "metadata": {},
   "outputs": [],
   "source": [
    "labels = ['strands']\n",
    "number_imgs = 12"
   ]
  },
  {
   "cell_type": "markdown",
   "metadata": {},
   "source": [
    "# 3. Setup Folders "
   ]
  },
  {
   "cell_type": "code",
   "execution_count": 5,
   "metadata": {},
   "outputs": [],
   "source": [
    "IMAGES_PATH = os.path.join('Tensorflow', 'workspace', 'images', 'collectedimages')"
   ]
  },
  {
   "cell_type": "code",
   "execution_count": 9,
   "metadata": {},
   "outputs": [],
   "source": [
    "if not os.path.exists(IMAGES_PATH):\n",
    "    if os.name == 'posix':\n",
    "        !mkdir -p {IMAGES_PATH}\n",
    "    if os.name == 'nt':\n",
    "         !mkdir {IMAGES_PATH}\n",
    "for label in labels:\n",
    "    path = os.path.join(IMAGES_PATH, label)\n",
    "    if not os.path.exists(path):\n",
    "        !mkdir {path}"
   ]
  },
  {
   "cell_type": "markdown",
   "metadata": {},
   "source": [
    "# 4. Rename Images"
   ]
  },
  {
   "cell_type": "code",
   "execution_count": 11,
   "metadata": {},
   "outputs": [],
   "source": [
    "for label in labels:\n",
    "    \n",
    "    images = os.listdir(os.path.join(IMAGES_PATH, label))\n",
    "    \n",
    "    for img in images:\n",
    "        img_name = os.path.join(IMAGES_PATH,label,label+'.'+'{}.jpg'.format(str(uuid.uuid1())))\n",
    "        \n",
    "        os.rename(os.path.join(IMAGES_PATH,label,img), img_name)"
   ]
  },
  {
   "cell_type": "markdown",
   "metadata": {},
   "source": [
    "# 5. Image Labelling"
   ]
  },
  {
   "cell_type": "code",
   "execution_count": 12,
   "metadata": {},
   "outputs": [
    {
     "name": "stdout",
     "output_type": "stream",
     "text": [
      "Collecting pyqt5\n",
      "  Using cached PyQt5-5.15.10-cp37-abi3-win_amd64.whl.metadata (2.2 kB)\n",
      "Requirement already satisfied: lxml in c:\\users\\guilh\\documents\\tfodcourse\\.conda\\lib\\site-packages\\lxml-5.0.0-py3.10-win-amd64.egg (5.0.0)\n",
      "Collecting PyQt5-sip<13,>=12.13 (from pyqt5)\n",
      "  Downloading PyQt5_sip-12.13.0-cp310-cp310-win_amd64.whl.metadata (524 bytes)\n",
      "Collecting PyQt5-Qt5>=5.15.2 (from pyqt5)\n",
      "  Using cached PyQt5_Qt5-5.15.2-py3-none-win_amd64.whl (50.1 MB)\n",
      "Using cached PyQt5-5.15.10-cp37-abi3-win_amd64.whl (6.8 MB)\n",
      "Downloading PyQt5_sip-12.13.0-cp310-cp310-win_amd64.whl (78 kB)\n",
      "   ---------------------------------------- 0.0/78.5 kB ? eta -:--:--\n",
      "   ----- ---------------------------------- 10.2/78.5 kB ? eta -:--:--\n",
      "   ---------------------------------------- 78.5/78.5 kB 1.1 MB/s eta 0:00:00\n",
      "Installing collected packages: PyQt5-Qt5, PyQt5-sip, pyqt5\n",
      "Successfully installed PyQt5-Qt5-5.15.2 PyQt5-sip-12.13.0 pyqt5-5.15.10\n"
     ]
    }
   ],
   "source": [
    "!pip install --upgrade pyqt5 lxml"
   ]
  },
  {
   "cell_type": "code",
   "execution_count": 13,
   "metadata": {},
   "outputs": [],
   "source": [
    "LABELIMG_PATH = os.path.join('Tensorflow', 'labelimg')"
   ]
  },
  {
   "cell_type": "code",
   "execution_count": 14,
   "metadata": {},
   "outputs": [],
   "source": [
    "if not os.path.exists(LABELIMG_PATH):\n",
    "    !mkdir {LABELIMG_PATH}\n",
    "    !git clone https://github.com/tzutalin/labelImg {LABELIMG_PATH}"
   ]
  },
  {
   "cell_type": "code",
   "execution_count": 15,
   "metadata": {},
   "outputs": [],
   "source": [
    "if os.name == 'posix':\n",
    "    !make qt5py3\n",
    "if os.name =='nt':\n",
    "    !cd {LABELIMG_PATH} && pyrcc5 -o libs/resources.py resources.qrc"
   ]
  },
  {
   "cell_type": "code",
   "execution_count": 16,
   "metadata": {},
   "outputs": [
    {
     "name": "stdout",
     "output_type": "stream",
     "text": [
      "Cancel creation.\n",
      "Image:C:\\Users\\guilh\\Documents\\TFODCourse\\Tensorflow\\workspace\\images\\collectedimages\\strands\\strands.13b7a836-ab1a-11ee-8313-010101010000.jpg -> Annotation:C:/Users/guilh/Documents/TFODCourse/Tensorflow/workspace/images/collectedimages/strands\\strands.13b7a836-ab1a-11ee-8313-010101010000.xml\n",
      "Image:C:\\Users\\guilh\\Documents\\TFODCourse\\Tensorflow\\workspace\\images\\collectedimages\\strands\\strands.13b7a836-ab1a-11ee-8313-010101010000.jpg -> Annotation:C:/Users/guilh/Documents/TFODCourse/Tensorflow/workspace/images/collectedimages/strands\\strands.13b7a836-ab1a-11ee-8313-010101010000.xml\n",
      "Cancel creation.\n",
      "Image:C:\\Users\\guilh\\Documents\\TFODCourse\\Tensorflow\\workspace\\images\\collectedimages\\strands\\strands.13b7d255-ab1a-11ee-8327-010101010000.jpg -> Annotation:C:/Users/guilh/Documents/TFODCourse/Tensorflow/workspace/images/collectedimages/strands\\strands.13b7d255-ab1a-11ee-8327-010101010000.xml\n",
      "Image:C:\\Users\\guilh\\Documents\\TFODCourse\\Tensorflow\\workspace\\images\\collectedimages\\strands\\strands.13b7e7ad-ab1a-11ee-ace2-010101010000.jpg -> Annotation:C:/Users/guilh/Documents/TFODCourse/Tensorflow/workspace/images/collectedimages/strands\\strands.13b7e7ad-ab1a-11ee-ace2-010101010000.xml\n",
      "Image:C:\\Users\\guilh\\Documents\\TFODCourse\\Tensorflow\\workspace\\images\\collectedimages\\strands\\strands.13b7e7ad-ab1a-11ee-ace2-010101010000.jpg -> Annotation:C:/Users/guilh/Documents/TFODCourse/Tensorflow/workspace/images/collectedimages/strands\\strands.13b7e7ad-ab1a-11ee-ace2-010101010000.xml\n",
      "Image:C:\\Users\\guilh\\Documents\\TFODCourse\\Tensorflow\\workspace\\images\\collectedimages\\strands\\strands.13b7fc16-ab1a-11ee-932c-010101010000.jpg -> Annotation:C:/Users/guilh/Documents/TFODCourse/Tensorflow/workspace/images/collectedimages/strands\\strands.13b7fc16-ab1a-11ee-932c-010101010000.xml\n",
      "Cancel creation.\n",
      "Image:C:\\Users\\guilh\\Documents\\TFODCourse\\Tensorflow\\workspace\\images\\collectedimages\\strands\\strands.13b75b7f-ab1a-11ee-8500-010101010000.jpg -> Annotation:C:/Users/guilh/Documents/TFODCourse/Tensorflow/workspace/images/collectedimages/strands\\strands.13b75b7f-ab1a-11ee-8500-010101010000.xml\n",
      "Image:C:\\Users\\guilh\\Documents\\TFODCourse\\Tensorflow\\workspace\\images\\collectedimages\\strands\\strands.13b75b7f-ab1a-11ee-8500-010101010000.jpg -> Annotation:C:/Users/guilh/Documents/TFODCourse/Tensorflow/workspace/images/collectedimages/strands\\strands.13b75b7f-ab1a-11ee-8500-010101010000.xml\n",
      "Image:C:\\Users\\guilh\\Documents\\TFODCourse\\Tensorflow\\workspace\\images\\collectedimages\\strands\\strands.13b75b7f-ab1a-11ee-8500-010101010000.jpg -> Annotation:C:/Users/guilh/Documents/TFODCourse/Tensorflow/workspace/images/collectedimages/strands\\strands.13b75b7f-ab1a-11ee-8500-010101010000.xml\n",
      "Image:C:\\Users\\guilh\\Documents\\TFODCourse\\Tensorflow\\workspace\\images\\collectedimages\\strands\\strands.13b84c54-ab1a-11ee-8e4c-010101010000.jpg -> Annotation:C:/Users/guilh/Documents/TFODCourse/Tensorflow/workspace/images/collectedimages/strands\\strands.13b84c54-ab1a-11ee-8e4c-010101010000.xml\n",
      "Image:C:\\Users\\guilh\\Documents\\TFODCourse\\Tensorflow\\workspace\\images\\collectedimages\\strands\\strands.13b84c55-ab1a-11ee-bf32-010101010000.jpg -> Annotation:C:/Users/guilh/Documents/TFODCourse/Tensorflow/workspace/images/collectedimages/strands\\strands.13b84c55-ab1a-11ee-bf32-010101010000.xml\n",
      "Image:C:\\Users\\guilh\\Documents\\TFODCourse\\Tensorflow\\workspace\\images\\collectedimages\\strands\\strands.13b824f0-ab1a-11ee-acda-010101010000.jpg -> Annotation:C:/Users/guilh/Documents/TFODCourse/Tensorflow/workspace/images/collectedimages/strands\\strands.13b824f0-ab1a-11ee-acda-010101010000.xml\n",
      "Image:C:\\Users\\guilh\\Documents\\TFODCourse\\Tensorflow\\workspace\\images\\collectedimages\\strands\\strands.13b824f1-ab1a-11ee-8025-010101010000.jpg -> Annotation:C:/Users/guilh/Documents/TFODCourse/Tensorflow/workspace/images/collectedimages/strands\\strands.13b824f1-ab1a-11ee-8025-010101010000.xml\n",
      "Image:C:\\Users\\guilh\\Documents\\TFODCourse\\Tensorflow\\workspace\\images\\collectedimages\\strands\\strands.13b7936f-ab1a-11ee-b428-010101010000.jpg -> Annotation:C:/Users/guilh/Documents/TFODCourse/Tensorflow/workspace/images/collectedimages/strands\\strands.13b7936f-ab1a-11ee-b428-010101010000.xml\n",
      "Image:C:\\Users\\guilh\\Documents\\TFODCourse\\Tensorflow\\workspace\\images\\collectedimages\\strands\\strands.13b8107a-ab1a-11ee-9775-010101010000.jpg -> Annotation:C:/Users/guilh/Documents/TFODCourse/Tensorflow/workspace/images/collectedimages/strands\\strands.13b8107a-ab1a-11ee-9775-010101010000.xml\n",
      "Image:C:\\Users\\guilh\\Documents\\TFODCourse\\Tensorflow\\workspace\\images\\collectedimages\\strands\\strands.13b87379-ab1a-11ee-8014-010101010000.jpg -> Annotation:C:/Users/guilh/Documents/TFODCourse/Tensorflow/workspace/images/collectedimages/strands\\strands.13b87379-ab1a-11ee-8014-010101010000.xml\n"
     ]
    }
   ],
   "source": [
    "!cd {LABELIMG_PATH} && python labelImg.py"
   ]
  },
  {
   "cell_type": "markdown",
   "metadata": {},
   "source": [
    "# 6. Move them into a Training and Testing Partition"
   ]
  },
  {
   "cell_type": "markdown",
   "metadata": {},
   "source": [
    "# OPTIONAL - 7. Compress them for Colab Training"
   ]
  },
  {
   "cell_type": "code",
   "execution_count": 20,
   "metadata": {},
   "outputs": [],
   "source": [
    "TRAIN_PATH = os.path.join('Tensorflow', 'workspace', 'images', 'train')\n",
    "TEST_PATH = os.path.join('Tensorflow', 'workspace', 'images', 'test')\n",
    "ARCHIVE_PATH = os.path.join('Tensorflow', 'workspace', 'images', 'archive.tar.gz')"
   ]
  },
  {
   "cell_type": "code",
   "execution_count": 21,
   "metadata": {},
   "outputs": [],
   "source": [
    "!tar -czf {ARCHIVE_PATH} {TRAIN_PATH} {TEST_PATH}"
   ]
  },
  {
   "cell_type": "code",
   "execution_count": 8,
   "metadata": {},
   "outputs": [
    {
     "name": "stdout",
     "output_type": "stream",
     "text": [
      "strands.9c5f8668-ab3d-11ee-9f8d-f45c89abef9f.jpg\n",
      "strands.9c5fbf5c-ab3d-11ee-9f8d-f45c89abef9f.jpg\n",
      "strands.9c5fcb00-ab3d-11ee-9f8d-f45c89abef9f.jpg\n",
      "strands.9c5fd6cc-ab3d-11ee-9f8d-f45c89abef9f.jpg\n",
      "strands.9c5fe360-ab3d-11ee-9f8d-f45c89abef9f.jpg\n",
      "strands.9c5fee96-ab3d-11ee-9f8d-f45c89abef9f.jpg\n",
      "strands.9c5ffe4a-ab3d-11ee-9f8d-f45c89abef9f.jpg\n",
      "strands.9c600e58-ab3d-11ee-9f8d-f45c89abef9f.jpg\n",
      "strands.9c60a548-ab3d-11ee-9f8d-f45c89abef9f.jpg\n",
      "strands.9c60fe62-ab3d-11ee-9f8d-f45c89abef9f.jpg\n",
      "strands.9c61202c-ab3d-11ee-9f8d-f45c89abef9f.jpg\n",
      "strands.9c6145e8-ab3d-11ee-9f8d-f45c89abef9f.jpg\n",
      "strands.9c614eb2-ab3d-11ee-9f8d-f45c89abef9f.jpg\n",
      "strands.9c615f06-ab3d-11ee-9f8d-f45c89abef9f.jpg\n",
      "strands.9c617112-ab3d-11ee-9f8d-f45c89abef9f.jpg\n",
      "strands.9c617c3e-ab3d-11ee-9f8d-f45c89abef9f.jpg\n"
     ]
    }
   ],
   "source": [
    "# OPTIONAL - 8. Remove images without annotations \n",
    "\n",
    "images = os.listdir(IMAGES_PATH)\n",
    "\n",
    "for image in images:\n",
    "    if image.replace('.jpg','.xml') not in images:\n",
    "        print(image)\n",
    "        os.remove(os.path.join(IMAGES_PATH,image))"
   ]
  },
  {
   "cell_type": "code",
   "execution_count": null,
   "metadata": {},
   "outputs": [],
   "source": []
  }
 ],
 "metadata": {
  "kernelspec": {
   "display_name": "Python 3",
   "language": "python",
   "name": "python3"
  },
  "language_info": {
   "codemirror_mode": {
    "name": "ipython",
    "version": 3
   },
   "file_extension": ".py",
   "mimetype": "text/x-python",
   "name": "python",
   "nbconvert_exporter": "python",
   "pygments_lexer": "ipython3",
   "version": "3.10.13"
  }
 },
 "nbformat": 4,
 "nbformat_minor": 2
}
